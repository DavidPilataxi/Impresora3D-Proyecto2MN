{
 "cells": [
  {
   "cell_type": "markdown",
   "metadata": {},
   "source": [
    "# **ESCUELA POLITECNICA NACIONAL**\n",
    "\n",
    "**Integrantes:**\n",
    "- Freddy Jiménez\n",
    "- David Pilataxi\n",
    "- Mijael Molina\n",
    "\n",
    "**Curso:** Gr1cc\n",
    "\n",
    "**Fecha:** 09/02/2025"
   ]
  },
  {
   "cell_type": "markdown",
   "metadata": {},
   "source": [
    "## **OBJETIVO GENERAL. -**\n",
    "\n",
    "- El objetivo este proyecto es desarrollar una simulación de impresora 3D que permita representar el proceso de impresión a partir de un archivo SVG. La simulación incluye la carga de un modelo 2D, la generación de una trayectoria de impresión basada en la resolución definida por el usuario, y la visualización del proceso de impresión en una interfaz gráfica.\n"
   ]
  },
  {
   "cell_type": "markdown",
   "metadata": {},
   "source": [
    "## **OBJETIVOS ESPECIFICOS. -**\n",
    "\n",
    "- Crear un sistema para leer y procesar modelos 2D en formato SVG, extrayendo las coordenadas necesarias para la impresión.\n",
    "- Implementar un algoritmo para calcular la trayectoria que debe seguir la impresora, respetando la resolución y el modelo seleccionado.\n",
    "- Mostrar la impresión paso a paso, visualizando tanto el modelo 2D como la trayectoria de impresión sobre una interfaz gráfica.\n",
    "- Desarrollar una interfaz gráfica que permita al usuario ajustar parámetros como la resolución de impresión, la velocidad y seleccionar el modelo a imprimir."
   ]
  },
  {
   "cell_type": "markdown",
   "metadata": {},
   "source": [
    "## **JUSTIFICACIÓN DEL PROYECTO. -**\n",
    "\n",
    "Este proyecto tiene como propósito simular el proceso de impresión 3D en un entorno controlado y fácil de visualizar, utilizando modelos 2D en formato SVG. La justificación radica en la necesidad de ofrecer a los usuarios una herramienta para previsualizar el proceso de impresión, permitiéndoles ajustar parámetros y comprender cómo la impresora recorre la trayectoria de un objeto. Además, al usar modelos SVG, el sistema es flexible y puede adaptarse a diferentes tipos de objetos 2D, lo que ofrece una representación sencilla pero útil de la impresión 3D."
   ]
  },
  {
   "cell_type": "markdown",
   "metadata": {},
   "source": [
    "## **DESARROLLO DEL PROGRAMA. -**\n",
    "\n",
    "El desarrollo del programa se basó en una estructura modular y en el uso de diversas herramientas y técnicas para garantizar que la simulación de la impresora 3D sea precisa y eficiente. A continuación, se detallan las principales etapas del desarrollo:\n",
    "\n",
    "- **Lectura de archivos SVG. -** \n",
    "\n",
    "Para poder procesar los modelos 2D, se utilizó la librería xml.etree.ElementTree, que permite cargar y analizar archivos XML, como el formato SVG. Mediante esta librería, el programa es capaz de identificar los elementos del archivo (como los polígonos) y extraer las coordenadas de los puntos que definen el contorno del objeto. Los puntos extraídos se utilizan para representar el modelo en la simulación.\n",
    "\n",
    "\n",
    "- **Generación de la trayectoria. -** \n",
    "\n",
    "Una vez que se han extraído las coordenadas del modelo, el siguiente paso es generar la trayectoria de impresión. La impresora debe seguir una serie de puntos que representan la malla interna del objeto. El algoritmo recorre estas coordenadas de acuerdo con la resolución definida por el usuario. A menor resolución, mayor será el espaciamiento entre los puntos, lo que reducirá la cantidad de datos a procesar y acelerará la simulación, pero sacrificará la precisión.\n",
    "\n",
    "- **Simulación de la impresión. -** \n",
    "\n",
    "El proceso de simulación de la impresión se lleva a cabo utilizando la librería matplotlib. Esta librería permite representar gráficamente la trayectoria de impresión sobre un lienzo. Los puntos de la trayectoria se muestran como una serie de marcas en el gráfico, y la impresora sigue avanzando de un punto a otro, visualizándose cada paso en tiempo real. Además, la velocidad de impresión se puede ajustar para controlar la rapidez con la que la impresora recorre la trayectoria.\n",
    "\n",
    "\n",
    "- **Interfaz gráfica. -** \n",
    "\n",
    "La interfaz gráfica fue desarrollada utilizando Tkinter, una biblioteca ampliamente utilizada para la creación de aplicaciones de escritorio en Python. La interfaz es sencilla pero funcional, y permite al usuario interactuar con el programa para cargar modelos, ajustar parámetros de impresión como la resolución y la velocidad, y visualizar la simulación en tiempo real. El diseño fue pensado para que el usuario pueda realizar ajustes fácilmente sin necesidad de conocimientos técnicos."
   ]
  },
  {
   "cell_type": "markdown",
   "metadata": {},
   "source": [
    "## **DESCRIPCIÓN DEL CODIGO. -**\n",
    "\n",
    "El código está estructurado en varias funciones clave que permiten gestionar las diferentes etapas del proceso de simulación. A continuación, se describen las funciones más importantes:\n",
    "\n",
    "- **Carga de modelos SVG. -** \n",
    "\n",
    "La función `procesar_svg` es responsable de cargar los archivos SVG seleccionados por el usuario. Utiliza la librería `xml.etree.ElementTree` para analizar el archivo, extraer los elementos de tipo `<polygon>` y obtener las coordenadas de los puntos que definen los bordes del objeto. Estos puntos se almacenan en una lista que luego será utilizada para generar la trayectoria.\n",
    "\n",
    "- **Generación de trayectoria. -** \n",
    "\n",
    "En la función `generar_trayectoria`, el algoritmo calcula la trayectoria que debe seguir la impresora para imprimir el objeto. Se toma el conjunto de puntos obtenidos del modelo y se recorre el espacio delimitado por el objeto, generando una malla de puntos con una distancia definida por la resolución. La función también se encarga de identificar los puntos dentro del objeto, garantizando que la impresora recorra solo las áreas relevantes.\n",
    "\n",
    "- **Simulación de impresión. -** \n",
    "\n",
    "La función `imprimir_paso` es la encargada de simular el movimiento de la impresora. Esta función avanza por la trayectoria generada y muestra cada paso de la simulación en tiempo real. A medida que la impresora recorre los puntos, los puntos se dibujan en el lienzo (`canvas`) con un color y tamaño específicos para simular el proceso de impresión. El parámetro de velocidad afecta la rapidez con la que se recorren los puntos y, por ende, la duración de la simulación.\n",
    "\n",
    "- **Reiniciar la simulación. -** \n",
    "\n",
    "La función `reiniciar_simulacion` limpia el estado de la simulación, eliminando cualquier dato previo y restaurando la interfaz para permitir cargar un nuevo modelo o ajustar los parámetros de impresión. Esto garantiza que el usuario pueda realizar múltiples simulaciones sin necesidad de cerrar y volver a abrir el programa."
   ]
  },
  {
   "cell_type": "markdown",
   "metadata": {},
   "source": [
    "## **INTERFAZ GRAFICA. -**\n",
    "\n",
    "La interfaz gráfica fue diseñada con el propósito de ser intuitiva y fácil de usar. A continuación se detallan los elementos más importantes de la interfaz:\n",
    "\n",
    "\n",
    "- **Selección de modelo SVG. -** \n",
    "\n",
    "Una de las primeras funcionalidades que ofrece la interfaz es la opción de cargar modelos SVG. Se proporcionan varios botones para seleccionar diferentes modelos (como \"avion.svg\", \"casa.svg\", etc.). Al hacer clic en uno de estos botones, el programa carga el archivo correspondiente y extrae los puntos que conforman el modelo.\n",
    "\n",
    "- **Controles de resolución y velocidad. -** \n",
    "\n",
    "La resolución horizontal y vertical se ajustan mediante campos de entrada numéricos. Estos valores determinan la distancia entre los puntos de la malla generada dentro del contorno del modelo, afectando tanto la precisión de la simulación como su tiempo de ejecución. Además, un control deslizante permite ajustar la velocidad de impresión, lo que influye en la rapidez con la que se simula el proceso de impresión.\n",
    "\n",
    "- **Botones de acción. -** \n",
    "\n",
    "Los botones de \"Iniciar Impresión\" y \"Reiniciar Simulación\" son esenciales para controlar el flujo de trabajo. Al presionar \"Iniciar Impresión\", el programa comienza la simulación siguiendo la trayectoria generada. Si el usuario desea empezar de nuevo, el botón \"Reiniciar Simulación\" limpia la pantalla y permite cargar otro modelo o ajustar los parámetros.\n",
    "\n",
    "- **Área de simulación. -** \n",
    "\n",
    "La parte inferior de la interfaz está dedicada a la visualización de la simulación. Se muestra tanto el modelo cargado (con puntos que representan el contorno del objeto) como la trayectoria de la impresora, que se dibuja paso a paso en tiempo real a medida que avanza a través del modelo."
   ]
  },
  {
   "cell_type": "markdown",
   "metadata": {},
   "source": [
    "![](imagen5.png)"
   ]
  },
  {
   "cell_type": "markdown",
   "metadata": {},
   "source": [
    "## PRUEBAS Y RESULTADOS. -\n",
    "\n",
    "Durante el proceso de desarrollo, se realizaron varias pruebas para garantizar que el programa funcionara correctamente en diferentes escenarios. Los resultados obtenidos se analizaron desde distintos aspectos:\n",
    "\n",
    "- **Precisión de la impresión. -** \n",
    "\n",
    "Se realizaron pruebas variando la resolución de impresión. A una resolución alta, la simulación mostró una mayor precisión en el recorrido de la impresora, ya que los puntos estaban más cerca unos de otros, lo que resultaba en una representación más detallada del objeto. En cambio, con una resolución baja, los puntos estaban más alejados y los detalles finos del objeto no se reproducían con la misma exactitud.\n",
    "\n",
    "- **Velocidad de impresión. -**\n",
    "\n",
    "Al aumentar la velocidad de impresión, el tiempo necesario para completar la simulación se redujo. Sin embargo, esto tuvo un impacto negativo en la precisión, ya que los puntos de la trayectoria se recorrían más rápido, lo que podría haber causado una menor fidelidad en la visualización del proceso de impresión.\n",
    "\n",
    "- **Interacción del usuario. -** \n",
    "\n",
    "La interfaz mostró un buen desempeño, y los controles de resolución, velocidad y carga de modelos respondieron de manera eficiente a las interacciones del usuario. No se observaron errores importantes durante las pruebas, y el programa permitió cambiar fácilmente entre diferentes configuraciones y modelos."
   ]
  },
  {
   "cell_type": "markdown",
   "metadata": {},
   "source": [
    "## **LIMITACIONES Y POSIBLES MEJORAS. -**\n",
    "\n",
    "Limitaciones:\n",
    "- **Resolución y precisión:** Resolución y Precisión: Si se establece una resolución muy alta, el programa puede volverse lento debido al gran número de puntos que debe procesar. Esto puede hacer que la simulación no sea viable para modelos grandes o complejos.\n",
    "\n",
    "- **Curvas complejas:** El algoritmo actual tiene limitaciones al trabajar con curvas suaves, ya que la interpolación de puntos se realiza solo mediante líneas rectas. Esto puede resultar en una visualización imprecisa de objetos con geometrías más complicadas.\n",
    "\n",
    "- **Escalabilidad:** A medida que se incrementan los detalles de los modelos, el rendimiento puede verse afectado. Modelos con detalles extremadamente pequeños o un gran número de puntos pueden ralentizar el proceso de simulación.\n",
    "\n",
    "Posibles mejoras:\n",
    "- **Interpolación avanzada:** Incorporar métodos más sofisticados de interpolación, como las curvas Bezier o splines, podría mejorar la precisión en la simulación de curvas y detalles finos.\n",
    "\n",
    "- **Optimización de la trayectoria:** Para mejorar la velocidad de impresión sin sacrificar la calidad, se podría implementar un algoritmo que optimice la trayectoria, evitando recorridos innecesarios o redundantes.\n",
    "\n",
    "- **Simulación en 3D:** Ampliar el proyecto para incluir una simulación en 3D realista, mostrando cómo se imprime capa por capa. Esto permitiría representar más fielmente el proceso de impresión en una impresora 3D real."
   ]
  },
  {
   "cell_type": "markdown",
   "metadata": {},
   "source": [
    "## **CONCLUSIONES. -**\n",
    "\n",
    "El proyecto ha logrado una simulación efectiva del proceso de impresión 3D utilizando modelos SVG, proporcionando una visualización clara y comprensible de cómo una impresora recorrería una trayectoria de puntos en un objeto 2D. La interfaz gráfica es intuitiva y fácil de usar, permitiendo una interacción fluida con el usuario. Sin embargo, las limitaciones en cuanto a la precisión de las curvas y la resolución alta podrían mejorarse en futuras versiones. A pesar de esto, el proyecto demuestra ser útil como una herramienta educativa para comprender el proceso de impresión 3D."
   ]
  },
  {
   "cell_type": "markdown",
   "metadata": {},
   "source": [
    "## **RECOMENDACIONES. -**\n",
    "- Se recomienda implementar técnicas de interpolación más avanzadas, como las curvas Bezier o splines, para mejorar la representación de modelos con geometrías complejas o curvas suaves. Esto permitirá obtener una simulación más precisa y detallada de los objetos.\n",
    "\n",
    "- La adición de una visualización en 3D del proceso de impresión capa por capa enriquecería la experiencia del usuario y proporcionaría una visión más realista de cómo se imprime un objeto, lo que ayudaría a comprender mejor el proceso de una impresora 3D real.\n",
    "\n",
    "- Sería útil aplicar métodos de simplificación de malla o reducir el número de puntos en áreas menos críticas del modelo. Esto mejoraría el rendimiento del sistema, especialmente cuando se cargan modelos de alta resolución o más grandes.\n"
   ]
  }
 ],
 "metadata": {
  "language_info": {
   "name": "python"
  }
 },
 "nbformat": 4,
 "nbformat_minor": 2
}
